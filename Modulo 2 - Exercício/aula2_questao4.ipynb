{
 "cells": [
  {
   "cell_type": "markdown",
   "id": "8473b45f-3009-442e-abbe-919405f8389e",
   "metadata": {},
   "source": [
    "Questão 4.\n",
    "\n",
    "1. Uma conta poupança foi aberta com um depósito de R$500,00. Esta conta é remunerada em 1% de juros ao mês. O código a seguir apresenta uma forma de implementação para calcular três meses de acúmulo de juros. Reescreva esse código usando apenas duas variáveis.\n",
    "\n",
    "2. juros = 1.01\r\n",
    "\r\n",
    "saldo = 500.0\r\n",
    "\r\n",
    "rendimento1 = saldo * juros\r\n",
    "\r\n",
    "rendimento2 = rendimento1 * juros\r\n",
    "\r\n",
    "rendimento3 = rendimento2 * juros\r\n",
    "\r\n",
    "print(\"Após 3 meses meu novo saldo é\")\r\n",
    "\r\n",
    "print)rendimento3)"
   ]
  },
  {
   "cell_type": "markdown",
   "id": "6352e353-6399-402d-8996-44582a0b386b",
   "metadata": {},
   "source": [
    "Formula matemática de juros simples:\n",
    "\n",
    "juros=capital* taxa* tempo (J=C * i * t)\n",
    "montante=capital+juros (M=C+J)"
   ]
  },
  {
   "cell_type": "code",
   "execution_count": 1,
   "id": "6759c964-70ab-4782-aae4-50e50afcd664",
   "metadata": {},
   "outputs": [
    {
     "name": "stdout",
     "output_type": "stream",
     "text": [
      "Após 3 meses meu novo saldo é\n",
      "515.0\n"
     ]
    }
   ],
   "source": [
    "juros=500*0.01*3\n",
    "montante=500+juros\n",
    "print(\"Após 3 meses meu novo saldo é\")\n",
    "print(montante)"
   ]
  }
 ],
 "metadata": {
  "kernelspec": {
   "display_name": "Python 3 (ipykernel)",
   "language": "python",
   "name": "python3"
  },
  "language_info": {
   "codemirror_mode": {
    "name": "ipython",
    "version": 3
   },
   "file_extension": ".py",
   "mimetype": "text/x-python",
   "name": "python",
   "nbconvert_exporter": "python",
   "pygments_lexer": "ipython3",
   "version": "3.11.7"
  }
 },
 "nbformat": 4,
 "nbformat_minor": 5
}
