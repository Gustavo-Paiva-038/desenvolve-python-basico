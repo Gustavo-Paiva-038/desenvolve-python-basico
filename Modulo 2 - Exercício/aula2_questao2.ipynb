{
 "cells": [
  {
   "cell_type": "markdown",
   "id": "e1649eeb-92b8-41c2-9eb2-223866e6bd2f",
   "metadata": {},
   "source": [
    "Questão 2.\n",
    "\n",
    "1. Armazene o texto \"o resultado é\"  em uma variável, o valor 10 em outra variável, e o valor 3.5 numa terceira variável.\n",
    "2. \n",
    "Some os valores da segunda e terceira variável e armazene em outra variáve\n",
    "3. I\r\n",
    "Imprima todas as variáveis na ordem de criação e imprima também seus tipos."
   ]
  },
  {
   "cell_type": "code",
   "execution_count": 2,
   "id": "d61c45ba-0edf-4811-9cef-ce6511b497f1",
   "metadata": {},
   "outputs": [
    {
     "name": "stdout",
     "output_type": "stream",
     "text": [
      "o resultado é\n",
      "10\n",
      "3.5\n",
      "13.5\n",
      "<class 'str'>\n",
      "<class 'int'>\n",
      "<class 'float'>\n",
      "<class 'float'>\n"
     ]
    }
   ],
   "source": [
    "frase=\"o resultado é\"\n",
    "v1=10\n",
    "v2=3.5\n",
    "result=v1+v2\n",
    "print(frase)\n",
    "print(v1)\n",
    "print(v2)\n",
    "print(result)\n",
    "print(type(frase))\n",
    "print(type(v1))\n",
    "print(type(v2))\n",
    "print(type(result))"
   ]
  }
 ],
 "metadata": {
  "kernelspec": {
   "display_name": "Python 3 (ipykernel)",
   "language": "python",
   "name": "python3"
  },
  "language_info": {
   "codemirror_mode": {
    "name": "ipython",
    "version": 3
   },
   "file_extension": ".py",
   "mimetype": "text/x-python",
   "name": "python",
   "nbconvert_exporter": "python",
   "pygments_lexer": "ipython3",
   "version": "3.11.7"
  }
 },
 "nbformat": 4,
 "nbformat_minor": 5
}
