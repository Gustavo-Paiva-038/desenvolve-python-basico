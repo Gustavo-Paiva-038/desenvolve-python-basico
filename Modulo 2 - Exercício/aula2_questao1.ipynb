{
 "cells": [
  {
   "cell_type": "markdown",
   "id": "d122958d-078f-420a-bfd6-d317f68dde7f",
   "metadata": {},
   "source": [
    "Questão 1.\n",
    "\n",
    "1- Armazene o valor 5 em uma variável e o valor 2 em outra variável\r\n",
    "2-\n",
    "Imprima o tipo de dados dessas duas variávei3- \r",
    "3-\n",
    "\r\n",
    "Divida a primeira variável (com o valor 5) pela segunda variável (com o valor 2) e armazene o resultado em uma terceira va\n",
    "\n",
    "ril\r\n",
    "\r\n",
    "Imprima a terceira variável e também o seu tipo"
   ]
  },
  {
   "cell_type": "code",
   "execution_count": 5,
   "id": "8f1f161c-0536-4542-874f-6a1d82a2ccae",
   "metadata": {},
   "outputs": [
    {
     "name": "stdout",
     "output_type": "stream",
     "text": [
      "<class 'int'>\n",
      "<class 'int'>\n",
      "2.5\n",
      "<class 'float'>\n"
     ]
    }
   ],
   "source": [
    "n1=5\n",
    "n2=2\n",
    "print(type(n1))\n",
    "print(type(n2))\n",
    "result=n1/n2\n",
    "print(result)\n",
    "print(type(result))"
   ]
  }
 ],
 "metadata": {
  "kernelspec": {
   "display_name": "Python 3 (ipykernel)",
   "language": "python",
   "name": "python3"
  },
  "language_info": {
   "codemirror_mode": {
    "name": "ipython",
    "version": 3
   },
   "file_extension": ".py",
   "mimetype": "text/x-python",
   "name": "python",
   "nbconvert_exporter": "python",
   "pygments_lexer": "ipython3",
   "version": "3.11.7"
  }
 },
 "nbformat": 4,
 "nbformat_minor": 5
}
