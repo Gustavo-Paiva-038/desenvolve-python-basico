{
 "cells": [
  {
   "cell_type": "markdown",
   "id": "e98134e3-09bb-4008-a8c7-a6deec32fd12",
   "metadata": {},
   "source": [
    "Questão 3.\n",
    "\n",
    "1. Dadas duas variáveis v1 = 10 e v2 = 20, utilize uma terceira variável para trocar os valores entre as duas variáveis. Ou seja, ao final v1 terá o valor de v2, e v2 o valor de v1. Você deve usar uma variável auxiliar de troca, não podendo atribuir os novos valores diretamente."
   ]
  },
  {
   "cell_type": "code",
   "execution_count": 3,
   "id": "eee49957-8dff-45d2-90f3-8a2a7f8cbd16",
   "metadata": {},
   "outputs": [
    {
     "name": "stdout",
     "output_type": "stream",
     "text": [
      "10\n",
      "20\n",
      "30\n",
      "20\n",
      "10\n"
     ]
    }
   ],
   "source": [
    "v1=10\n",
    "v2=20\n",
    "print(v1)\n",
    "print(v2)\n",
    "v1=v1+10\n",
    "v2=v2-10\n",
    "v3=v1+v2\n",
    "print(v3)\n",
    "print(v1)\n",
    "print(v2)"
   ]
  }
 ],
 "metadata": {
  "kernelspec": {
   "display_name": "Python 3 (ipykernel)",
   "language": "python",
   "name": "python3"
  },
  "language_info": {
   "codemirror_mode": {
    "name": "ipython",
    "version": 3
   },
   "file_extension": ".py",
   "mimetype": "text/x-python",
   "name": "python",
   "nbconvert_exporter": "python",
   "pygments_lexer": "ipython3",
   "version": "3.11.7"
  }
 },
 "nbformat": 4,
 "nbformat_minor": 5
}
